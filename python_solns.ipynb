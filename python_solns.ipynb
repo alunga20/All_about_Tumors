{
  "nbformat": 4,
  "nbformat_minor": 0,
  "metadata": {
    "colab": {
      "name": "Copy of Untitled0.ipynb",
      "provenance": [],
      "collapsed_sections": [],
      "authorship_tag": "ABX9TyOIh1je6EFyiypltkJ7DJnx",
      "include_colab_link": true
    },
    "kernelspec": {
      "name": "python3",
      "display_name": "Python 3"
    },
    "language_info": {
      "name": "python"
    }
  },
  "cells": [
    {
      "cell_type": "markdown",
      "metadata": {
        "id": "view-in-github",
        "colab_type": "text"
      },
      "source": [
        "<a href=\"https://colab.research.google.com/github/alunga20/Practice/blob/main/python_solns.ipynb\" target=\"_parent\"><img src=\"https://colab.research.google.com/assets/colab-badge.svg\" alt=\"Open In Colab\"/></a>"
      ]
    },
    {
      "cell_type": "markdown",
      "source": [
        "### Question 3\n",
        "Level 1\n",
        "\n",
        "Question:\n",
        "With a given integral number n, write a program to generate a dictionary that contains (i, i*i) such that is an integral number between 1 and n (both included). and then the program should print the dictionary.\n",
        "Suppose the following input is supplied to the program:\n",
        "8\n",
        "Then, the output should be:\n",
        "{1: 1, 2: 4, 3: 9, 4: 16, 5: 25, 6: 36, 7: 49, 8: 64}\n",
        "\n",
        "Hints:\n",
        "In case of input data being supplied to the question, it should be assumed to be a console input.\n",
        "Consider use dict()"
      ],
      "metadata": {
        "id": "Iv615X9nDSoG"
      }
    },
    {
      "cell_type": "code",
      "source": [
        "n= int(input(\"input a no: \"))\n",
        "d= {}\n",
        "\n",
        "for i in range(1, n+1):\n",
        "    d[i] = i*i\n",
        "    \n",
        "print(d)"
      ],
      "metadata": {
        "colab": {
          "base_uri": "https://localhost:8080/"
        },
        "id": "NyWzkccuDg1P",
        "outputId": "1c3f4914-bd6d-43f2-e3f5-f8088380c538"
      },
      "execution_count": null,
      "outputs": [
        {
          "output_type": "stream",
          "name": "stdout",
          "text": [
            "input a no: 8\n",
            "{1: 1, 2: 4, 3: 9, 4: 16, 5: 25, 6: 36, 7: 49, 8: 64}\n"
          ]
        }
      ]
    },
    {
      "cell_type": "markdown",
      "source": [
        "### Question 8\n",
        "Level 2\n",
        "\n",
        "Question:\n",
        "Write a program that accepts a comma separated sequence of words as input and prints the words in a comma-separated sequence after sorting them alphabetically.\n",
        "Suppose the following input is supplied to the program:\n",
        "without,hello,bag,world\n",
        "Then, the output should be:\n",
        "bag,hello,without,world\n",
        "\n",
        "Hints:\n",
        "In case of input data being supplied to the question, it should be assumed to be a console input.\n"
      ],
      "metadata": {
        "id": "ox1cmyW4Dvn_"
      }
    },
    {
      "cell_type": "code",
      "source": [
        "words = input(\"word sequence: \")\n",
        "splited_words = words.split(\",\")\n",
        "splited_words.sort()\n",
        "print((',').join(splited_words))"
      ],
      "metadata": {
        "colab": {
          "base_uri": "https://localhost:8080/"
        },
        "id": "fWM5pa83D2Bu",
        "outputId": "cee59a54-6f0d-480c-c1ce-42674e698419"
      },
      "execution_count": null,
      "outputs": [
        {
          "output_type": "stream",
          "name": "stdout",
          "text": [
            "word sequence: without, hello, bag, world\n",
            " bag, hello, world,without\n"
          ]
        }
      ]
    },
    {
      "cell_type": "markdown",
      "source": [
        "### Question 13\n",
        "Level 2\n",
        "\n",
        "Question:\n",
        "Write a program that accepts a sentence and calculate the number of letters and digits.\n",
        "Suppose the following input is supplied to the program:\n",
        "hello world! 123\n",
        "Then, the output should be:\n",
        "LETTERS 10\n",
        "DIGITS 3\n",
        "\n",
        "Hints:\n",
        "In case of input data being supplied to the question, it should be assumed to be a console input."
      ],
      "metadata": {
        "id": "SH7SQB0VEFzM"
      }
    },
    {
      "cell_type": "code",
      "source": [
        "sentence = input(\"Write a sentence: \")\n",
        "d=l=0\n",
        "for x in sentence:\n",
        "    if x.isdigit():\n",
        "        d=d+1\n",
        "    elif x.isalpha():\n",
        "        l=l+1\n",
        "    else:\n",
        "        pass\n",
        "print(\"LETTERS\", l)\n",
        "print(\"DIGITS\", d)"
      ],
      "metadata": {
        "colab": {
          "base_uri": "https://localhost:8080/"
        },
        "id": "D7bLXSMJEK0U",
        "outputId": "35a5884c-6f04-4b74-dd24-28719e30f8f0"
      },
      "execution_count": null,
      "outputs": [
        {
          "output_type": "stream",
          "name": "stdout",
          "text": [
            "Write a sentence: code is life, 2022\n",
            "LETTERS 10\n",
            "DIGITS 4\n"
          ]
        }
      ]
    },
    {
      "cell_type": "markdown",
      "source": [
        "### Question 15\n",
        "Level 2\n",
        "\n",
        "Question:\n",
        "Write a program that computes the value of a+aa+aaa+aaaa with a given digit as the value of a.\n",
        "Suppose the following input is supplied to the program:\n",
        "9\n",
        "Then, the output should be:\n",
        "11106\n",
        "\n",
        "Hints:\n",
        "In case of input data being supplied to the question, it should be assumed to be a console input."
      ],
      "metadata": {
        "id": "yNDa7wMxEZkk"
      }
    },
    {
      "cell_type": "code",
      "source": [
        "n=input('enter a num:')\n",
        "output=0\n",
        "for i in range(1,5):\n",
        "    a=n*i\n",
        "    new=int(a)\n",
        "    output=output+new\n",
        "print(output)"
      ],
      "metadata": {
        "colab": {
          "base_uri": "https://localhost:8080/"
        },
        "id": "MxENbujoEiMe",
        "outputId": "1778e9e3-5afe-41fc-fa92-7d6b0893404b"
      },
      "execution_count": null,
      "outputs": [
        {
          "output_type": "stream",
          "name": "stdout",
          "text": [
            "enter a num:99\n",
            "101010096\n"
          ]
        }
      ]
    },
    {
      "cell_type": "markdown",
      "source": [
        "### Question 25\n",
        "Level 1\n",
        "\n",
        "Question:\n",
        "Define a class, which have a class parameter and have a same instance parameter.\n",
        "\n",
        "Hints:\n",
        "Define a instance parameter, need add it in __init__ method\n",
        "You can init a object with construct parameter or set the value later\n"
      ],
      "metadata": {
        "id": "h0mytSmSEt7V"
      }
    },
    {
      "cell_type": "code",
      "source": [
        "class Car:\n",
        "    name = \"Car\"\n",
        "\n",
        "    def __init__(self,name = None):\n",
        "        self.name = name\n",
        "\n",
        "honda=Car(\"Honda\")\n",
        "print(\"%s name is %s\"%(Car.name,honda.name))\n",
        "\n",
        "toyota=Car()\n",
        "toyota.name=\"Toyota\"\n",
        "print(\"%s name is %s\"%(Car.name,toyota.name))      "
      ],
      "metadata": {
        "id": "49259OmeEyZe",
        "outputId": "5931946f-4b00-4669-d073-72fbf07ed218",
        "colab": {
          "base_uri": "https://localhost:8080/"
        }
      },
      "execution_count": 6,
      "outputs": [
        {
          "output_type": "stream",
          "name": "stdout",
          "text": [
            "Car name is Honda\n",
            "Car name is Toyota\n"
          ]
        }
      ]
    },
    {
      "cell_type": "markdown",
      "source": [
        "### Question 28\n",
        "Define a function that can convert a integer into a string and print it in console.\n",
        "\n",
        "Hints:\n",
        "\n",
        "Use str() to convert a number to string."
      ],
      "metadata": {
        "id": "VeRDsyEQEy2W"
      }
    },
    {
      "cell_type": "code",
      "source": [
        "hour = 11\n",
        "statement = 'This is the ' + str(hour) + 'th hour of the day.'\n",
        "print(statement)"
      ],
      "metadata": {
        "colab": {
          "base_uri": "https://localhost:8080/"
        },
        "id": "ocNf0lAsE7fl",
        "outputId": "950da5f4-976f-42ac-d998-aef5ff63c88d"
      },
      "execution_count": null,
      "outputs": [
        {
          "output_type": "stream",
          "name": "stdout",
          "text": [
            "This is the 11th hour of the day.\n"
          ]
        }
      ]
    },
    {
      "cell_type": "markdown",
      "source": [
        "### Question 38\n",
        "Define a function which can generate a list where the values are square of numbers between 1 and 20 (both included). Then the function needs to print the first 5 elements in the list.\n",
        "\n",
        "Hints:\n",
        "\n",
        "Use ** operator to get power of a number.\n",
        "Use range() for loops.\n",
        "Use list.append() to add values into a list.\n",
        "Use [n1:n2] to slice a list"
      ],
      "metadata": {
        "id": "XeW5xWN9FAsm"
      }
    },
    {
      "cell_type": "code",
      "source": [
        "def printList():\n",
        "\tli=list()\n",
        "\tfor i in range(1,21):\n",
        "\t\tli.append(i**2)\n",
        "\tprint (li[-5:])\n",
        "\n",
        "printList()"
      ],
      "metadata": {
        "colab": {
          "base_uri": "https://localhost:8080/"
        },
        "id": "fXWZEj0kFEHY",
        "outputId": "1b8ac2f4-5b6d-46f7-f187-46c8b1dbff0c"
      },
      "execution_count": null,
      "outputs": [
        {
          "output_type": "stream",
          "name": "stdout",
          "text": [
            "[256, 289, 324, 361, 400]\n"
          ]
        }
      ]
    },
    {
      "cell_type": "markdown",
      "source": [
        "### Question 43\n",
        "Write a program to generate and print another tuple whose values are even numbers in the given tuple (1,2,3,4,5,6,7,8,9,10). \n",
        "\n",
        "Hints:\n",
        "\n",
        "Use \"for\" to iterate the tuple\n",
        "Use tuple() to generate a tuple from a list."
      ],
      "metadata": {
        "id": "f_NUKmSwFI-k"
      }
    },
    {
      "cell_type": "code",
      "source": [
        "tpl = (1,2,3,4,5,6,7,8,9,10)\n",
        "tpl1 = tuple(i for i in tpl if i%2 == 0)\n",
        "print(tpl1)"
      ],
      "metadata": {
        "colab": {
          "base_uri": "https://localhost:8080/"
        },
        "id": "SxVXe1EMFNiS",
        "outputId": "0272a3eb-63d7-4b0d-cf81-d8e932bb18d7"
      },
      "execution_count": null,
      "outputs": [
        {
          "output_type": "stream",
          "name": "stdout",
          "text": [
            "(2, 4, 6, 8, 10)\n"
          ]
        }
      ]
    },
    {
      "cell_type": "markdown",
      "source": [
        "### Question 44\n",
        "Write a program which accepts a string as input to print \"Yes\" if the string is \"yes\" or \"YES\" or \"Yes\", otherwise print \"No\". \n",
        "\n",
        "Hints:\n",
        "\n",
        "Use if statement to judge condition.\n",
        "\n"
      ],
      "metadata": {
        "id": "-s4RKzIcFTZO"
      }
    },
    {
      "cell_type": "code",
      "source": [
        "text = input('Type something; ')\n",
        "if text =='yes' or text == 'Yes' or text == 'YES' :\n",
        "   print('Yes')\n",
        "else:\n",
        "   print('No')  \n"
      ],
      "metadata": {
        "id": "AvXNK1NkFXrj",
        "colab": {
          "base_uri": "https://localhost:8080/"
        },
        "outputId": "9155579e-7040-4276-9df6-a47281109a36"
      },
      "execution_count": null,
      "outputs": [
        {
          "output_type": "stream",
          "name": "stdout",
          "text": [
            "Type something; time\n",
            "No\n"
          ]
        }
      ]
    }
  ]
}