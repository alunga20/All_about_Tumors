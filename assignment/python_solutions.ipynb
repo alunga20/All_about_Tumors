{
 "cells": [
  {
   "cell_type": "code",
   "execution_count": 1,
   "id": "8007e169-5aa3-4beb-afdd-de02004accc6",
   "metadata": {},
   "outputs": [],
   "source": [
    "### Question 3\n",
    "Level 1\n",
    "\n",
    "Question:\n",
    "With a given integral number n, write a program to generate a dictionary that contains (i, i*i) such that is an integral number between 1 and n (both included). and then the program should print the dictionary.\n",
    "Suppose the following input is supplied to the program:\n",
    "8\n",
    "Then, the output should be:\n",
    "{1: 1, 2: 4, 3: 9, 4: 16, 5: 25, 6: 36, 7: 49, 8: 64}\n",
    "\n",
    "Hints:\n",
    "In case of input data being supplied to the question, it should be assumed to be a console input.\n",
    "Consider use dict()"
   ]
  },
  {
   "cell_type": "code",
   "execution_count": 3,
   "id": "74bbbdae-bb30-4453-bbb5-ef458e85d370",
   "metadata": {},
   "outputs": [
    {
     "name": "stdin",
     "output_type": "stream",
     "text": [
      "input a no:  7\n"
     ]
    },
    {
     "name": "stdout",
     "output_type": "stream",
     "text": [
      "{1: 1, 2: 4, 3: 9, 4: 16, 5: 25, 6: 36, 7: 49}\n"
     ]
    }
   ],
   "source": [
    "# solution\n",
    "\n",
    "n= int(input(\"input a no: \"))\n",
    "d= {}\n",
    "\n",
    "for i in range(1, n+1):\n",
    "    d[i] = i*i\n",
    "    \n",
    "print(d)"
   ]
  },
  {
   "cell_type": "code",
   "execution_count": 1,
   "id": "27c05531-858f-4ee7-87b8-7412ac09df43",
   "metadata": {
    "tags": []
   },
   "outputs": [],
   "source": [
    "### Question 8\n",
    "Level 2\n",
    "\n",
    "Question:\n",
    "Write a program that accepts a comma separated sequence of words as input and prints the words in a comma-separated sequence after sorting them alphabetically.\n",
    "Suppose the following input is supplied to the program:\n",
    "without,hello,bag,world\n",
    "Then, the output should be:\n",
    "bag,hello,without,world\n",
    "\n",
    "Hints:\n",
    "In case of input data being supplied to the question, it should be assumed to be a console input."
   ]
  },
  {
   "cell_type": "code",
   "execution_count": 1,
   "id": "0ca4207a-9553-4b87-844e-45750218bd0d",
   "metadata": {},
   "outputs": [],
   "source": [
    "# solution\n",
    "words = input(\"word sequence: \")\n",
    "splited_words = words.split(\",\")\n",
    "splited_words.sort()\n",
    "print((',').join(splited_words))\n"
   ]
  },
  {
   "cell_type": "code",
   "execution_count": 1,
   "id": "c079a3de-5720-4dc2-81f3-8f0fc234e303",
   "metadata": {},
   "outputs": [],
   "source": [
    "### Question 13\n",
    "Level 2\n",
    "\n",
    "Question:\n",
    "Write a program that accepts a sentence and calculate the number of letters and digits.\n",
    "Suppose the following input is supplied to the program:\n",
    "hello world! 123\n",
    "Then, the output should be:\n",
    "LETTERS 10\n",
    "DIGITS 3\n",
    "\n",
    "Hints:\n",
    "In case of input data being supplied to the question, it should be assumed to be a console input."
   ]
  },
  {
   "cell_type": "code",
   "execution_count": 1,
   "id": "d4058d2c-a033-40cc-a65a-8d2c3b2bab98",
   "metadata": {},
   "outputs": [],
   "source": [
    "# solution\n",
    "sentence = input(\"Write a sentence: \")\n",
    "d=l=0\n",
    "for x in sentence:\n",
    "    if x.isdigit():\n",
    "        d=d+1\n",
    "    elif x.isalpha():\n",
    "        l=l+1\n",
    "    else:\n",
    "        pass\n",
    "print(\"LETTERS\", l)\n",
    "print(\"DIGITS\", d)\n"
   ]
  },
  {
   "cell_type": "code",
   "execution_count": 1,
   "id": "cd6c6f67-3478-42df-acd3-60fd5dbe10e5",
   "metadata": {},
   "outputs": [],
   "source": [
    "### Question 15\n",
    "Level 2\n",
    "\n",
    "Question:\n",
    "Write a program that computes the value of a+aa+aaa+aaaa with a given digit as the value of a.\n",
    "Suppose the following input is supplied to the program:\n",
    "9\n",
    "Then, the output should be:\n",
    "11106\n",
    "\n",
    "Hints:\n",
    "In case of input data being supplied to the question, it should be assumed to be a console input."
   ]
  },
  {
   "cell_type": "code",
   "execution_count": 1,
   "id": "d5792390-4aba-4cb2-a6fb-c4779c2ecf43",
   "metadata": {},
   "outputs": [],
   "source": [
    "# solution\n",
    "n=input('enter a num:')\n",
    "output=0\n",
    "for i in range(1,5):\n",
    "    a=n*i\n",
    "    new=int(a)\n",
    "    output=output+new\n",
    "print(output)\n"
   ]
  },
  {
   "cell_type": "code",
   "execution_count": 1,
   "id": "a623edb0-9014-4283-bd4f-2b5e4a9554ca",
   "metadata": {},
   "outputs": [],
   "source": [
    "### Question 25\n",
    "Level 1\n",
    "\n",
    "Question:\n",
    "Define a class, which have a class parameter and have a same instance parameter.\n",
    "\n",
    "Hints:\n",
    "Define a instance parameter, need add it in __init__ method\n",
    "You can init a object with construct parameter or set the value later"
   ]
  },
  {
   "cell_type": "code",
   "execution_count": 1,
   "id": "0787237f-c74a-4708-8e4b-453d09d40689",
   "metadata": {},
   "outputs": [],
   "source": []
  },
  {
   "cell_type": "code",
   "execution_count": 1,
   "id": "dadafc35-73d3-43c6-949d-ab3e4766d0df",
   "metadata": {},
   "outputs": [],
   "source": [
    "### Question 28\n",
    "Define a function that can convert a integer into a string and print it in console.\n",
    "\n",
    "Hints:\n",
    "\n",
    "Use str() to convert a number to string."
   ]
  },
  {
   "cell_type": "code",
   "execution_count": 1,
   "id": "04f16dbd-d76a-48a6-8c09-3736e5681e13",
   "metadata": {},
   "outputs": [],
   "source": [
    "# solution\n",
    "hour = 11\n",
    "statement = 'This is the ' + str(hour) + 'th hour of the day.'\n",
    "print(statement)"
   ]
  },
  {
   "cell_type": "code",
   "execution_count": 1,
   "id": "9e87ca7b-5e78-4ab3-b88a-8c3db7969337",
   "metadata": {},
   "outputs": [],
   "source": [
    "### Question 38\n",
    "Define a function which can generate a list where the values are square of numbers between 1 and 20 (both included). Then the function needs to print the first 5 elements in the list.\n",
    "\n",
    "Hints:\n",
    "\n",
    "Use ** operator to get power of a number.\n",
    "Use range() for loops.\n",
    "Use list.append() to add values into a list.\n",
    "Use [n1:n2] to slice a list"
   ]
  },
  {
   "cell_type": "code",
   "execution_count": 5,
   "id": "cfa5c7ef-5578-47c1-b03a-26b6ebc0e5ec",
   "metadata": {},
   "outputs": [
    {
     "name": "stdout",
     "output_type": "stream",
     "text": [
      "[256, 289, 324, 361, 400]\n"
     ]
    }
   ],
   "source": [
    "# solution\n",
    "def printList():\n",
    "\tli=list()\n",
    "\tfor i in range(1,21):\n",
    "\t\tli.append(i**2)\n",
    "\tprint (li[-5:])\n",
    "\n",
    "printList()\n"
   ]
  },
  {
   "cell_type": "code",
   "execution_count": 1,
   "id": "7322c309-e91b-4b16-833b-013fef986593",
   "metadata": {},
   "outputs": [],
   "source": [
    "### Question 43\n",
    "Write a program to generate and print another tuple whose values are even numbers in the given tuple (1,2,3,4,5,6,7,8,9,10). \n",
    "\n",
    "Hints:\n",
    "\n",
    "Use \"for\" to iterate the tuple\n",
    "Use tuple() to generate a tuple from a list."
   ]
  },
  {
   "cell_type": "code",
   "execution_count": null,
   "id": "167588aa-b068-4756-8168-fa0193879b94",
   "metadata": {},
   "outputs": [],
   "source": [
    "# solution\n",
    "tpl = (1,2,3,4,5,6,7,8,9,10)\n",
    "tpl1 = tuple(i for i in tpl if i%2 == 0)\n",
    "print(tpl1)"
   ]
  },
  {
   "cell_type": "code",
   "execution_count": null,
   "id": "95d809d3-22e1-43a7-93b4-8c574d263d93",
   "metadata": {},
   "outputs": [],
   "source": [
    "### Question 44\n",
    "Write a program which accepts a string as input to print \"Yes\" if the string is \"yes\" or \"YES\" or \"Yes\", otherwise print \"No\". \n",
    "\n",
    "Hints:\n",
    "\n",
    "Use if statement to judge condition."
   ]
  },
  {
   "cell_type": "code",
   "execution_count": null,
   "id": "05e036ff-9a4a-42a0-9d77-3fb41ce6b97d",
   "metadata": {},
   "outputs": [],
   "source": []
  }
 ],
 "metadata": {
  "kernelspec": {
   "display_name": "Python 3 (ipykernel)",
   "language": "python",
   "name": "python3"
  },
  "language_info": {
   "codemirror_mode": {
    "name": "ipython",
    "version": 3
   },
   "file_extension": ".py",
   "mimetype": "text/x-python",
   "name": "python",
   "nbconvert_exporter": "python",
   "pygments_lexer": "ipython3",
   "version": "3.8.8"
  }
 },
 "nbformat": 4,
 "nbformat_minor": 5
}
